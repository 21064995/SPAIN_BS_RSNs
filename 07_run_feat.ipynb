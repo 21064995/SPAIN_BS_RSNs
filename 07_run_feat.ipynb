{
 "cells": [
  {
   "cell_type": "code",
   "execution_count": 13,
   "metadata": {},
   "outputs": [
    {
     "name": "stdout",
     "output_type": "stream",
     "text": [
      "54\n",
      "15\n",
      "41\n",
      "44\n",
      "40\n",
      "07\n",
      "26\n",
      "38\n",
      "10\n",
      "21\n",
      "16\n",
      "25\n",
      "01\n",
      "04\n",
      "49\n",
      "08\n",
      "52\n",
      "36\n",
      "39\n",
      "55\n",
      "43\n",
      "24\n",
      "27\n",
      "32\n",
      "50\n",
      "11\n",
      "02\n",
      "30\n",
      "23\n",
      "06\n",
      "53\n"
     ]
    }
   ],
   "source": [
    "#\n",
    "#!/usr/bin/python\n",
    "\n",
    "# This script will generate each subjects design.fsf, but does not run it.\n",
    "# It depends on your system how will launch feat\n",
    "\n",
    "import os\n",
    "import glob\n",
    "\n",
    "# Set this to the directory all of the sub### directories live in\n",
    "studydir = '/data/project/SPAIN_BS/SPAIN/derivatives/processed2'\n",
    "\n",
    "# Set this to the directory where you'll dump all the fsf files\n",
    "# May want to make it a separate directory, because you can delete them all o\n",
    "#   once Feat runs\n",
    "fsfdir='/data/project/SPAIN_BS/SPAIN/code/ALEX_V/feat_scripts'\n",
    "\n",
    "# Get all the paths!  Note, this won't do anything special to omit bad subjects\n",
    "subdirs=glob.glob(\"%s/sub-SPAIN[0-9][0-9]/ses-B\"%(studydir))\n",
    "for dir in list(subdirs):\n",
    "  splitdir = dir.split('/')\n",
    "  # YOU WILL NEED TO EDIT THIS TO GRAB sub001\n",
    "  splitdir_sub = splitdir[7]\n",
    "  subnum=splitdir_sub[-2:]\n",
    "  print(subnum)\n",
    "  ntime = os.popen('fslnvols %s/_ses-B_task-rest_bold_chop_brainstem_mcf.nii.gz'%(dir)).read().rstrip()\n",
    "  replacements = {'SUBNUM':subnum, 'NTPTS':ntime}\n",
    "  with open(\"%s/template_script.fsf\"%(fsfdir)) as infile: \n",
    "    with open(\"%s/design_sub%s.fsf\"%(fsfdir, subnum), 'w') as outfile:\n",
    "        for line in infile:\n",
    "          # Note, since the video, I've changed \"iteritems\" to \"items\"\n",
    "          # to make the following work on more versions of python\n",
    "          #  (python 3 no longer has iteritems())  \n",
    "          for src, target in replacements.items():\n",
    "            line = line.replace(src, target)\n",
    "          outfile.write(line)\n",
    "\n",
    "  \n"
   ]
  }
 ],
 "metadata": {
  "kernelspec": {
   "display_name": "Python 3",
   "language": "python",
   "name": "python3"
  },
  "language_info": {
   "codemirror_mode": {
    "name": "ipython",
    "version": 3
   },
   "file_extension": ".py",
   "mimetype": "text/x-python",
   "name": "python",
   "nbconvert_exporter": "python",
   "pygments_lexer": "ipython3",
   "version": "3.6.8"
  }
 },
 "nbformat": 4,
 "nbformat_minor": 2
}
